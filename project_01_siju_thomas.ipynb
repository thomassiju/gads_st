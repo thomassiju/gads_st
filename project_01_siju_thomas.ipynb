{
 "cells": [
  {
   "cell_type": "markdown",
   "metadata": {},
   "source": [
    "# Project 1:  Research Design Write-Up"
   ]
  },
  {
   "cell_type": "markdown",
   "metadata": {},
   "source": [
    "## The aim of the project is to write a well-articulated problem statement and analysis plan that will be robust and reproducible using the UCLA admission dataset."
   ]
  },
  {
   "cell_type": "markdown",
   "metadata": {},
   "source": [
    "## Dataset\n",
    "The dataset can be found at: [UCLA Admission Dataset](https://github.com/alexperrier/gads/blob/master/project_01/admissions.csv)\n",
    "\n",
    "## Features of the Dataset\n",
    "1. Outcome: \n",
    "    Admission status of the student\n",
    "2. Covariate or Predictor Variables: \n",
    "    gre\n",
    "    gpa\n",
    "    prestige\n",
    "\n",
    "## Purpose\n",
    "The object of the study is to examine the various factors (GRE score, GPA and prestige of the undergraduate institution) that influence the admission status of a student at UCLA. "
   ]
  },
  {
   "cell_type": "markdown",
   "metadata": {},
   "source": [
    "## Data Dictionary\n",
    "\n",
    "1. admit:  Status of admission of the student (1 = admitted, 0 = not admitted)\n",
    "2. gre: GRE (Graduate Record Exam) score  (Range: 200-800)\n",
    "3. gpa: GPA (grade point average) (Range: 0.0 - 4.0)\n",
    "4. prestige: Relative prestige of the undergraduate’s alma mater (1: highest, 4: lowest)\n",
    "\n",
    "\n",
    "## Problem Statement\n",
    "1. Is there a link between undergraduate school prestige and admit status?\n",
    "2. Is there a link between GPA and admit status?\n",
    "3. Is there a link between GRE and admit status"
   ]
  },
  {
   "cell_type": "code",
   "execution_count": 3,
   "metadata": {
    "collapsed": true
   },
   "outputs": [],
   "source": [
    "#Load the packages and libraries\n",
    "import numpy as np\n",
    "import pandas as pd\n",
    "import matplotlib.pyplot as plt\n",
    "%matplotlib inline"
   ]
  },
  {
   "cell_type": "code",
   "execution_count": 11,
   "metadata": {
    "collapsed": false
   },
   "outputs": [
    {
     "data": {
      "text/plain": [
       "400"
      ]
     },
     "execution_count": 11,
     "metadata": {},
     "output_type": "execute_result"
    }
   ],
   "source": [
    "# Load the UCLA dataset\n",
    "df = pd.read_csv('./gads/project_01/admissions.csv')\n",
    "df.shape[0]"
   ]
  },
  {
   "cell_type": "code",
   "execution_count": 13,
   "metadata": {
    "collapsed": false
   },
   "outputs": [
    {
     "name": "stderr",
     "output_type": "stream",
     "text": [
      "/Users/thomas/anaconda2/envs/gads/lib/python3.5/site-packages/numpy/lib/function_base.py:3823: RuntimeWarning: Invalid value encountered in percentile\n",
      "  RuntimeWarning)\n"
     ]
    },
    {
     "data": {
      "text/html": [
       "<div>\n",
       "<table border=\"1\" class=\"dataframe\">\n",
       "  <thead>\n",
       "    <tr style=\"text-align: right;\">\n",
       "      <th></th>\n",
       "      <th>admit</th>\n",
       "      <th>gre</th>\n",
       "      <th>gpa</th>\n",
       "      <th>prestige</th>\n",
       "    </tr>\n",
       "  </thead>\n",
       "  <tbody>\n",
       "    <tr>\n",
       "      <th>count</th>\n",
       "      <td>400.000000</td>\n",
       "      <td>398.000000</td>\n",
       "      <td>398.00000</td>\n",
       "      <td>399.000000</td>\n",
       "    </tr>\n",
       "    <tr>\n",
       "      <th>mean</th>\n",
       "      <td>0.317500</td>\n",
       "      <td>588.040201</td>\n",
       "      <td>3.39093</td>\n",
       "      <td>2.486216</td>\n",
       "    </tr>\n",
       "    <tr>\n",
       "      <th>std</th>\n",
       "      <td>0.466087</td>\n",
       "      <td>115.628513</td>\n",
       "      <td>0.38063</td>\n",
       "      <td>0.945333</td>\n",
       "    </tr>\n",
       "    <tr>\n",
       "      <th>min</th>\n",
       "      <td>0.000000</td>\n",
       "      <td>220.000000</td>\n",
       "      <td>2.26000</td>\n",
       "      <td>1.000000</td>\n",
       "    </tr>\n",
       "    <tr>\n",
       "      <th>25%</th>\n",
       "      <td>0.000000</td>\n",
       "      <td>NaN</td>\n",
       "      <td>NaN</td>\n",
       "      <td>NaN</td>\n",
       "    </tr>\n",
       "    <tr>\n",
       "      <th>50%</th>\n",
       "      <td>0.000000</td>\n",
       "      <td>NaN</td>\n",
       "      <td>NaN</td>\n",
       "      <td>NaN</td>\n",
       "    </tr>\n",
       "    <tr>\n",
       "      <th>75%</th>\n",
       "      <td>1.000000</td>\n",
       "      <td>NaN</td>\n",
       "      <td>NaN</td>\n",
       "      <td>NaN</td>\n",
       "    </tr>\n",
       "    <tr>\n",
       "      <th>max</th>\n",
       "      <td>1.000000</td>\n",
       "      <td>800.000000</td>\n",
       "      <td>4.00000</td>\n",
       "      <td>4.000000</td>\n",
       "    </tr>\n",
       "  </tbody>\n",
       "</table>\n",
       "</div>"
      ],
      "text/plain": [
       "            admit         gre        gpa    prestige\n",
       "count  400.000000  398.000000  398.00000  399.000000\n",
       "mean     0.317500  588.040201    3.39093    2.486216\n",
       "std      0.466087  115.628513    0.38063    0.945333\n",
       "min      0.000000  220.000000    2.26000    1.000000\n",
       "25%      0.000000         NaN        NaN         NaN\n",
       "50%      0.000000         NaN        NaN         NaN\n",
       "75%      1.000000         NaN        NaN         NaN\n",
       "max      1.000000  800.000000    4.00000    4.000000"
      ]
     },
     "execution_count": 13,
     "metadata": {},
     "output_type": "execute_result"
    }
   ],
   "source": [
    "#Basic Stats on the Dataset\n",
    "df.describe()"
   ]
  },
  {
   "cell_type": "markdown",
   "metadata": {},
   "source": [
    "## Initial Thoughts on the dataset\n",
    "\n",
    "1. The average admit rate is 31.57%.\n",
    "2. The average GRE score for all applicants is 588.\n",
    "3. The average GPA for all applicants is 3.39.\n",
    "4. The average prestige of the undergraduate institution of all applicants is 2.49.\n",
    "5. There are 2 GRE scores, 2 GPA scores and 1 prestige score missing."
   ]
  },
  {
   "cell_type": "code",
   "execution_count": 69,
   "metadata": {
    "collapsed": false
   },
   "outputs": [
    {
     "data": {
      "text/plain": [
       "0.3175"
      ]
     },
     "execution_count": 69,
     "metadata": {},
     "output_type": "execute_result"
    }
   ],
   "source": [
    "#Replace missing GRE scores with mean of available scores\n",
    "gre_average = df[ ~df.gre.isnull() ]['gre'].mean()\n",
    "df.loc[ df.gre.isnull(),'gre'] = gre_average\n",
    "df[df.gre.isnull()].shape\n",
    "gre_average\n",
    "\n",
    "#Replace missing GPA scores with mean of available scores\n",
    "gpa_average = df[ ~df.gpa.isnull() ]['gpa'].mean()\n",
    "df.loc[ df.gpa.isnull(),'gpa'] = gpa_average\n",
    "df[df.gpa.isnull()].shape\n",
    "gpa_average\n",
    "\n",
    "#Replace missing Prestige scores with mean of available scores\n",
    "prestige_average = df[ ~df.prestige.isnull() ]['prestige'].mean()\n",
    "df.loc[ df.prestige.isnull(),'prestige'] = prestige_average\n",
    "df[df.prestige.isnull()].shape\n",
    "prestige_average\n",
    "\n",
    "#Check whether data is cleaned\n",
    "df.describe()\n",
    "mean_admit_rate = df.admit.mean()\n",
    "mean_admit_rate"
   ]
  },
  {
   "cell_type": "code",
   "execution_count": 52,
   "metadata": {
    "collapsed": false
   },
   "outputs": [
    {
     "data": {
      "text/plain": [
       "<matplotlib.axes._subplots.AxesSubplot at 0x1139e9278>"
      ]
     },
     "execution_count": 52,
     "metadata": {},
     "output_type": "execute_result"
    },
    {
     "data": {
      "image/png": "[encoded data removed]",
      "text/plain": [
       "<matplotlib.figure.Figure at 0x114a56c88>"
      ]
     },
     "metadata": {},
     "output_type": "display_data"
    }
   ],
   "source": [
    "#Basic Plotting\n",
    "#GRE scores distribution between all applicants and admitted students\n",
    "df.gre.hist(bins=6,normed=False,label = 'All Applicants')\n",
    "df[df.admit == 1].gre.hist(bins=6,normed=False,label = 'Admitted')"
   ]
  },
  {
   "cell_type": "code",
   "execution_count": 50,
   "metadata": {
    "collapsed": false
   },
   "outputs": [
    {
     "data": {
      "text/plain": [
       "<matplotlib.axes._subplots.AxesSubplot at 0x11275e4a8>"
      ]
     },
     "execution_count": 50,
     "metadata": {},
     "output_type": "execute_result"
    },
    {
     "data": {
      "image/png": "[encoded data removed]",
      "text/plain": [
       "<matplotlib.figure.Figure at 0x1146abba8>"
      ]
     },
     "metadata": {},
     "output_type": "display_data"
    }
   ],
   "source": [
    "#GPA scores distribution between all applicants and admitted students\n",
    "df.gpa.hist(bins=6,normed=False,label = 'All Applicants')\n",
    "df[df.admit == 1].gpa.hist(bins=6,normed=False,label = 'Admitted')"
   ]
  },
  {
   "cell_type": "code",
   "execution_count": 55,
   "metadata": {
    "collapsed": false
   },
   "outputs": [
    {
     "data": {
      "text/plain": [
       "<matplotlib.axes._subplots.AxesSubplot at 0x113bb24a8>"
      ]
     },
     "execution_count": 55,
     "metadata": {},
     "output_type": "execute_result"
    },
    {
     "data": {
      "image/png": "[encoded data removed]",
      "text/plain": [
       "<matplotlib.figure.Figure at 0x1151a9518>"
      ]
     },
     "metadata": {},
     "output_type": "display_data"
    }
   ],
   "source": [
    "#Prestige score distribution between all applicants and admitted students\n",
    "df.prestige.hist(bins=4,normed=False,label = 'All Applicants')\n",
    "df[df.admit == 1].prestige.hist(bins=4,normed=False,label = 'Admitted')"
   ]
  },
  {
   "cell_type": "code",
   "execution_count": 61,
   "metadata": {
    "collapsed": false
   },
   "outputs": [
    {
     "data": {
      "image/png": "[encoded data removed]",
      "text/plain": [
       "<matplotlib.figure.Figure at 0x115456588>"
      ]
     },
     "metadata": {},
     "output_type": "display_data"
    }
   ],
   "source": [
    "#Graphical Plot to check for a connection between GPA and GRE scores\n",
    "cond = (df.admit == 1)\n",
    "fig = plt.figure(figsize=(9,6))\n",
    "plt.plot( df[cond].gpa, df[cond].gre,'.'  , color='r', alpha = 0.7, label ='Admitted')\n",
    "plt.plot( df[~cond].gpa, df[~cond].gre,'.'  , color='b', alpha = 0.7, label ='Not Admitted')\n",
    "plt.legend(loc='best')\n",
    "plt.xlim([2.2,4.1])\n",
    "plt.ylim([200,810])\n",
    "plt.xlabel('GPA')\n",
    "plt.ylabel('GRE')\n",
    "plt.grid()\n",
    "plt.show()"
   ]
  },
  {
   "cell_type": "code",
   "execution_count": 132,
   "metadata": {
    "collapsed": false
   },
   "outputs": [
    {
     "name": "stdout",
     "output_type": "stream",
     "text": [
      "For the students with a GRE Score of 700+ and GPA of 3+, the acceptance rate is 40.27777777777778 percent. This makes a student 26.8591426072 percent more likely to be accepted \n"
     ]
    }
   ],
   "source": [
    "#High GRE Scores and high GPA\n",
    "cond = ((df.gre >= 700) & (df.gpa >= 3.0))\n",
    "ad_cond = ((cond) & df.admit ==1)\n",
    "admit_rate = df[ad_cond].shape[0]/df[cond].shape[0]\n",
    "\n",
    "#Greater chance \n",
    "higher_chance = (admit_rate-mean_admit_rate)/mean_admit_rate\n",
    "\n",
    "print ('For the students with a GRE Score of 700+ and GPA of 3+, the acceptance rate is %s percent. \\\n",
    "This makes a student %s percent more likely to be accepted '%(admit_rate*100,higher_chance*100)) "
   ]
  },
  {
   "cell_type": "code",
   "execution_count": 133,
   "metadata": {
    "collapsed": false
   },
   "outputs": [
    {
     "name": "stdout",
     "output_type": "stream",
     "text": [
      "For the students with a GRE Score of 750+ and GPA of 3.5+, the acceptance rate is 54.54545454545454 percent. This makes a student 71.7967072298 percent more likely to be accepted \n"
     ]
    }
   ],
   "source": [
    "cond = ((df.gre >= 750) & (df.gpa >= 3.5))\n",
    "ad_cond = ((cond) & df.admit ==1)\n",
    "admit_rate = df[ad_cond].shape[0]/df[cond].shape[0]\n",
    "\n",
    "#Greater chance \n",
    "higher_chance = (admit_rate-mean_admit_rate)/mean_admit_rate\n",
    "\n",
    "print ('For the students with a GRE Score of 750+ and GPA of 3.5+, the acceptance rate is %s percent. \\\n",
    "This makes a student %s percent more likely to be accepted '%(admit_rate*100,higher_chance*100)) "
   ]
  },
  {
   "cell_type": "code",
   "execution_count": 125,
   "metadata": {
    "collapsed": false
   },
   "outputs": [
    {
     "name": "stdout",
     "output_type": "stream",
     "text": [
      "For the highest ranked school, the acceptance rate is 54.09836065573771. This makes a student 70.3885374984 more likely to be accepted \n"
     ]
    }
   ],
   "source": [
    "#Whether undergraduate school prestige has an influence\n",
    "# Prestige = 1\n",
    "cond = ((df.prestige==1))\n",
    "ad_cond = ((cond)&(df.admit==1))\n",
    "admit_rate = df[ad_cond].shape[0]/df[cond].shape[0]\n",
    "\n",
    "#Greater chance \n",
    "higher_chance = (admit_rate-mean_admit_rate)/mean_admit_rate\n",
    "\n",
    "print ('For the highest ranked school, the acceptance rate is %s percent. \\\n",
    "This makes a student %s percent more likely to be accepted '%(admit_rate*100,higher_chance*100)) "
   ]
  },
  {
   "cell_type": "code",
   "execution_count": 119,
   "metadata": {
    "collapsed": false
   },
   "outputs": [
    {
     "name": "stdout",
     "output_type": "stream",
     "text": [
      "For the second-highest ranked school, the acceptance rate is 35.333333333333336. This makes a student 11.2860892388  more likely to be accepted \n"
     ]
    }
   ],
   "source": [
    "# Prestige = 2\n",
    "#cond = ((df.gre >= 750) & (df.gpa >= 3.5) & (df.prestige==2))\n",
    "cond = ((df.prestige==2))\n",
    "ad_cond = ((cond)&(df.admit==1))\n",
    "admit_rate = df[ad_cond].shape[0]/df[cond].shape[0]\n",
    "\n",
    "#Greater chance \n",
    "higher_chance = (admit_rate-mean_admit_rate)/mean_admit_rate\n",
    "\n",
    "print ('For the second-highest ranked school, the acceptance rate is %s percent. \\\n",
    "This makes a student %s percent more likely to be accepted '%(admit_rate*100,higher_chance*100)) "
   ]
  },
  {
   "cell_type": "code",
   "execution_count": 126,
   "metadata": {
    "collapsed": false
   },
   "outputs": [
    {
     "name": "stdout",
     "output_type": "stream",
     "text": [
      "For the second-highest ranked school, the acceptance rate is 23.140495867768596. This makes a student -27.116548448  more likely to be accepted \n"
     ]
    }
   ],
   "source": [
    "# Prestige = 3\n",
    "#cond = ((df.gre >= 750) & (df.gpa >= 3.5) & (df.prestige==3))\n",
    "cond = ((df.prestige==3))\n",
    "ad_cond = ((cond)&(df.admit==1))\n",
    "admit_rate = df[ad_cond].shape[0]/df[cond].shape[0]\n",
    "\n",
    "#Greater chance \n",
    "higher_chance = (admit_rate-mean_admit_rate)/mean_admit_rate\n",
    "\n",
    "print ('For the third-highest ranked school, the acceptance rate is %s percent. \\\n",
    "This makes a student %s percent  more likely to be accepted '%(admit_rate*100,higher_chance*100)) "
   ]
  },
  {
   "cell_type": "code",
   "execution_count": 128,
   "metadata": {
    "collapsed": false
   },
   "outputs": [
    {
     "name": "stdout",
     "output_type": "stream",
     "text": [
      "For the lowest ranked school, the acceptance rate is 17.91044776119403 percent. This makes a student -43.5891409096 percent  more likely to be accepted \n"
     ]
    }
   ],
   "source": [
    "# Prestige = 4\n",
    "#cond = ((df.gre >= 750) & (df.gpa >= 3.5) & (df.prestige==4))\n",
    "cond = ((df.prestige==4))\n",
    "ad_cond = ((cond)&(df.admit==1))\n",
    "admit_rate = df[ad_cond].shape[0]/df[cond].shape[0]\n",
    "\n",
    "#Greater chance \n",
    "higher_chance = (admit_rate-mean_admit_rate)/mean_admit_rate\n",
    "\n",
    "print ('For the lowest ranked school, the acceptance rate is %s percent. \\\n",
    "This makes a student %s percent  more likely to be accepted '%(admit_rate*100,higher_chance*100)) "
   ]
  },
  {
   "cell_type": "markdown",
   "metadata": {},
   "source": [
    "\n",
    "\n"
   ]
  }
 ],
 "metadata": {
  "kernelspec": {
   "display_name": "Python 2",
   "language": "python",
   "name": "python2"
  },
  "language_info": {
   "codemirror_mode": {
    "name": "ipython",
    "version": 2
   },
   "file_extension": ".py",
   "mimetype": "text/x-python",
   "name": "python",
   "nbconvert_exporter": "python",
   "pygments_lexer": "ipython2",
   "version": "2.7.11"
  }
 },
 "nbformat": 4,
 "nbformat_minor": 0
}
